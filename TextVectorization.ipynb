{
 "cells": [
  {
   "cell_type": "markdown",
   "metadata": {},
   "source": [
    "# Sequence Embedding"
   ]
  },
  {
   "cell_type": "code",
   "execution_count": 1,
   "metadata": {},
   "outputs": [],
   "source": [
    "import tensorflow as tf\n",
    "from tensorflow.keras.layers import TextVectorization"
   ]
  },
  {
   "cell_type": "code",
   "execution_count": 2,
   "metadata": {},
   "outputs": [
    {
     "data": {
      "text/plain": [
       "['A', 'T', 'A', 'C', 'G', 'A', 'T', 'T', 'A', 'T', 'G', 'A', 'C', 'C']"
      ]
     },
     "execution_count": 2,
     "metadata": {},
     "output_type": "execute_result"
    }
   ],
   "source": [
    "sequence = \"ATACGATTATGACC\"\n",
    "sequence_split = [x for x in sequence]\n",
    "#Create the vectorization layer\n",
    "sequence_split\n"
   ]
  },
  {
   "cell_type": "code",
   "execution_count": 28,
   "metadata": {},
   "outputs": [],
   "source": [
    "vectorize_layer = TextVectorization(max_tokens=10, output_mode='int', output_sequence_length=10)\n",
    "vectorize_layer.adapt(sequence_split)"
   ]
  },
  {
   "cell_type": "code",
   "execution_count": 29,
   "metadata": {},
   "outputs": [],
   "source": [
    "S = \"ATACGAT\"\n",
    "V = \"ATTACASDREREWE\"\n",
    "S_split = ' '.join(S)\n",
    "V_split = ' '.join(V)\n",
    "text = [S_split,V_split]\n",
    "inp = vectorize_layer(text)"
   ]
  },
  {
   "cell_type": "code",
   "execution_count": 30,
   "metadata": {},
   "outputs": [
    {
     "data": {
      "text/plain": [
       "<tf.Tensor: shape=(2, 10), dtype=int64, numpy=\n",
       "array([[2, 3, 2, 4, 5, 2, 3, 0, 0, 0],\n",
       "       [2, 3, 3, 2, 4, 2, 1, 1, 1, 1]])>"
      ]
     },
     "execution_count": 30,
     "metadata": {},
     "output_type": "execute_result"
    }
   ],
   "source": [
    "inp"
   ]
  },
  {
   "cell_type": "markdown",
   "metadata": {},
   "source": [
    "# Embedding"
   ]
  },
  {
   "cell_type": "code",
   "execution_count": 31,
   "metadata": {},
   "outputs": [
    {
     "name": "stdout",
     "output_type": "stream",
     "text": [
      "tf.Tensor(\n",
      "[[[-0.04249822 -0.00324083]\n",
      "  [-0.04824536 -0.02380964]\n",
      "  [-0.04249822 -0.00324083]\n",
      "  [ 0.02518258  0.01238324]\n",
      "  [ 0.02435977  0.02923867]\n",
      "  [-0.04249822 -0.00324083]\n",
      "  [-0.04824536 -0.02380964]\n",
      "  [ 0.03557335 -0.03903788]\n",
      "  [ 0.03557335 -0.03903788]\n",
      "  [ 0.03557335 -0.03903788]]\n",
      "\n",
      " [[-0.04249822 -0.00324083]\n",
      "  [-0.04824536 -0.02380964]\n",
      "  [-0.04824536 -0.02380964]\n",
      "  [-0.04249822 -0.00324083]\n",
      "  [ 0.02518258  0.01238324]\n",
      "  [-0.04249822 -0.00324083]\n",
      "  [ 0.01306046  0.03019983]\n",
      "  [ 0.01306046  0.03019983]\n",
      "  [ 0.01306046  0.03019983]\n",
      "  [ 0.01306046  0.03019983]]], shape=(2, 10, 2), dtype=float32)\n"
     ]
    }
   ],
   "source": [
    "Ebd = tf.keras.layers.Embedding(input_dim=100, output_dim=2)\n",
    "output = Ebd(inp)\n",
    "print(output)"
   ]
  }
 ],
 "metadata": {
  "interpreter": {
   "hash": "ef8b9add1314e237b60b92b1a2f6c7f9f0ba0c102b9e1da395e3695f51599e7c"
  },
  "kernelspec": {
   "display_name": "Python 3.8.12 64-bit ('data_science': conda)",
   "language": "python",
   "name": "python3"
  },
  "language_info": {
   "codemirror_mode": {
    "name": "ipython",
    "version": 3
   },
   "file_extension": ".py",
   "mimetype": "text/x-python",
   "name": "python",
   "nbconvert_exporter": "python",
   "pygments_lexer": "ipython3",
   "version": "3.8.12"
  },
  "orig_nbformat": 4
 },
 "nbformat": 4,
 "nbformat_minor": 2
}
