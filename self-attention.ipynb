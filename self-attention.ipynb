{
 "cells": [
  {
   "cell_type": "markdown",
   "metadata": {},
   "source": [
    "# Self Attention"
   ]
  },
  {
   "cell_type": "code",
   "execution_count": 1,
   "metadata": {},
   "outputs": [],
   "source": [
    "import tensorflow as tf\n",
    "from tensorflow.keras import Input, layers"
   ]
  },
  {
   "cell_type": "markdown",
   "metadata": {},
   "source": [
    "## Calculate attention score $\\alpha$ or attention weights"
   ]
  },
  {
   "cell_type": "code",
   "execution_count": 19,
   "metadata": {},
   "outputs": [],
   "source": [
    "\n",
    "d_model = 3\n",
    "length = 21\n",
    "\n",
    "# Calculate wq. wk, wv\n",
    "wq = layers.Dense(d_model)\n",
    "wk = layers.Dense(d_model)\n",
    "wv = layers.Dense(d_model)\n",
    "input = Input(shape=(length,d_model,))\n",
    "\n",
    "q = wq(input) #shape = [None,length, d_model]\n",
    "k = wk(input) #shape = [None,length, d_model]\n",
    "v = wv(input) #shape = [None,length, d_model]\n",
    "\n",
    "matmul_qk = tf.matmul(q,k, transpose_b=True) #Shape = [None, length, length]\n",
    "\n",
    "#scale matmul_qk\n",
    "#dk is the last dimention of k\n",
    "dk = tf.cast(tf.shape(k)[-1], tf.float32)\n",
    "scaled_attention_logits = matmul_qk / tf.math.sqrt(dk) #Shape = [N, length,length]"
   ]
  },
  {
   "cell_type": "markdown",
   "metadata": {},
   "source": [
    "## If you have masking , here it is!\n",
    "\n",
    "- padding mask\n",
    "- look ahead mask"
   ]
  },
  {
   "cell_type": "code",
   "execution_count": null,
   "metadata": {},
   "outputs": [],
   "source": [
    "def create_padding_mask(seq):\n",
    "    seq = tf.cast(tf.math.equal(seq, 0), tf.float32)\n",
    "    # add extra dimensions to add the padding\n",
    "    # # to the attention logits.\n",
    "    return seq[:, tf.newaxis, tf.newaxis, :]  # (batch_size, 1, 1, seq_len)\n"
   ]
  },
  {
   "cell_type": "code",
   "execution_count": null,
   "metadata": {},
   "outputs": [],
   "source": [
    "def create_look_ahead_mask(size):\n",
    "  mask = 1 - tf.linalg.band_part(tf.ones((size, size)), -1, 0)\n",
    "  return mask  # (seq_len, seq_len)\n"
   ]
  },
  {
   "cell_type": "code",
   "execution_count": 3,
   "metadata": {},
   "outputs": [],
   "source": [
    "mask = None\n",
    "if mask is not None:\n",
    "    scaled_attention_logits += (mask * -1e9)\n"
   ]
  },
  {
   "cell_type": "markdown",
   "metadata": {},
   "source": [
    "## Calculate QKV or self attention feature map"
   ]
  },
  {
   "cell_type": "code",
   "execution_count": 23,
   "metadata": {},
   "outputs": [],
   "source": [
    "#Softmax Here attention weight also called attention score\n",
    "attention_weights = tf.nn.softmax(scaled_attention_logits, axis=-1) #Shape = [N, length, length]\n",
    "\n",
    "#calculate alpha\n",
    "output = tf.matmul(attention_weights, v) #shape = [None, length, d_model]"
   ]
  }
 ],
 "metadata": {
  "interpreter": {
   "hash": "ef8b9add1314e237b60b92b1a2f6c7f9f0ba0c102b9e1da395e3695f51599e7c"
  },
  "kernelspec": {
   "display_name": "Python 3.8.12 64-bit ('data_science': conda)",
   "language": "python",
   "name": "python3"
  },
  "language_info": {
   "codemirror_mode": {
    "name": "ipython",
    "version": 3
   },
   "file_extension": ".py",
   "mimetype": "text/x-python",
   "name": "python",
   "nbconvert_exporter": "python",
   "pygments_lexer": "ipython3",
   "version": "3.8.12"
  },
  "orig_nbformat": 4
 },
 "nbformat": 4,
 "nbformat_minor": 2
}
